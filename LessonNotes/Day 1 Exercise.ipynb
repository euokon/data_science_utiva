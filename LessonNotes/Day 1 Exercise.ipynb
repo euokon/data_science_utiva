{
 "cells": [
  {
   "cell_type": "markdown",
   "metadata": {},
   "source": [
    "#### Write a program to solve a quadratic equation"
   ]
  },
  {
   "cell_type": "code",
   "execution_count": 3,
   "metadata": {},
   "outputs": [],
   "source": [
    "import math"
   ]
  },
  {
   "cell_type": "code",
   "execution_count": 4,
   "metadata": {},
   "outputs": [
    {
     "data": {
      "text/plain": [
       "2.0"
      ]
     },
     "execution_count": 4,
     "metadata": {},
     "output_type": "execute_result"
    }
   ],
   "source": [
    "math.sqrt(4)"
   ]
  },
  {
   "cell_type": "code",
   "execution_count": 21,
   "metadata": {},
   "outputs": [],
   "source": [
    "def quadratic_solution():\n",
    "    \n",
    "    input_a = float(input('Enter a value for a: '))\n",
    "    input_b = float(input('Enter a value for b: '))\n",
    "    input_c = float(input('Enter a value for c: '))\n",
    "    \n",
    "    sqr_val = (input_b ** 2) - (4 * input_a * input_c)\n",
    "    sqrt_val = math.sqrt((input_b ** 2) - (4 * input_a * input_c))\n",
    "    \n",
    "    solution_1 = round((-input_b + sqrt_val) / (2 * input_a), 2)\n",
    "    solution_2 = round((-input_b - sqrt_val) / (2 * input_a), 2)\n",
    "   \n",
    "    if sqr_val == 0:\n",
    "        solution_out = \"The solution is {}\".format(solution_1)\n",
    "    elif sqr_val > 0:\n",
    "        solution_out = \"The solutions are {} and {}\".format(solution_1, solution_2)\n",
    "    \n",
    "    return solution_out\n",
    "    \n",
    "    "
   ]
  },
  {
   "cell_type": "code",
   "execution_count": 22,
   "metadata": {},
   "outputs": [
    {
     "name": "stdout",
     "output_type": "stream",
     "text": [
      "Enter a value for a: 6\n",
      "Enter a value for b: 11\n",
      "Enter a value for c: -35\n"
     ]
    },
    {
     "data": {
      "text/plain": [
       "'The solutions are 1.67 and -3.5'"
      ]
     },
     "execution_count": 22,
     "metadata": {},
     "output_type": "execute_result"
    }
   ],
   "source": [
    "quadratic_solution()"
   ]
  },
  {
   "cell_type": "code",
   "execution_count": 23,
   "metadata": {},
   "outputs": [
    {
     "name": "stdout",
     "output_type": "stream",
     "text": [
      "Enter a value for a: 2\n",
      "Enter a value for b: -4\n",
      "Enter a value for c: -2\n"
     ]
    },
    {
     "data": {
      "text/plain": [
       "'The solutions are 2.41 and -0.41'"
      ]
     },
     "execution_count": 23,
     "metadata": {},
     "output_type": "execute_result"
    }
   ],
   "source": [
    "quadratic_solution()"
   ]
  },
  {
   "cell_type": "markdown",
   "metadata": {},
   "source": [
    "#### Write a program to find the largest of three numbers"
   ]
  },
  {
   "cell_type": "code",
   "execution_count": 14,
   "metadata": {},
   "outputs": [],
   "source": [
    "import numpy as np"
   ]
  },
  {
   "cell_type": "code",
   "execution_count": 15,
   "metadata": {},
   "outputs": [],
   "source": [
    "def largest_number(num1, num2, num3):\n",
    "    \n",
    "    num_var = []\n",
    "    num_var.append(num1)\n",
    "    num_var.append(num2)\n",
    "    num_var.append(num3)\n",
    "    \n",
    "    num_arr = np.array(num_var)\n",
    "    max_num = num_arr.max()\n",
    "    \n",
    "    return max_num"
   ]
  },
  {
   "cell_type": "code",
   "execution_count": 16,
   "metadata": {},
   "outputs": [
    {
     "data": {
      "text/plain": [
       "4"
      ]
     },
     "execution_count": 16,
     "metadata": {},
     "output_type": "execute_result"
    }
   ],
   "source": [
    "largest_number(2, 3, 4)"
   ]
  },
  {
   "cell_type": "code",
   "execution_count": 17,
   "metadata": {},
   "outputs": [
    {
     "data": {
      "text/plain": [
       "153"
      ]
     },
     "execution_count": 17,
     "metadata": {},
     "output_type": "execute_result"
    }
   ],
   "source": [
    "largest_number(50, 153, 21)"
   ]
  },
  {
   "cell_type": "code",
   "execution_count": 20,
   "metadata": {},
   "outputs": [
    {
     "name": "stdout",
     "output_type": "stream",
     "text": [
      "Enter a value for a: 2\n",
      "Enter a value for b: 4\n",
      "Enter a value for c: 2\n"
     ]
    },
    {
     "data": {
      "text/plain": [
       "'The solutions is -1.0'"
      ]
     },
     "execution_count": 20,
     "metadata": {},
     "output_type": "execute_result"
    }
   ],
   "source": [
    "quadratic_solution()"
   ]
  },
  {
   "cell_type": "code",
   "execution_count": 25,
   "metadata": {},
   "outputs": [
    {
     "data": {
      "text/plain": [
       "'domain.com'"
      ]
     },
     "execution_count": 25,
     "metadata": {},
     "output_type": "execute_result"
    }
   ],
   "source": [
    "x = 'user@domain.com'\n",
    "\n",
    "x.split('@')[-1]"
   ]
  },
  {
   "cell_type": "code",
   "execution_count": null,
   "metadata": {},
   "outputs": [],
   "source": []
  }
 ],
 "metadata": {
  "kernelspec": {
   "display_name": "Python 3",
   "language": "python",
   "name": "python3"
  },
  "language_info": {
   "codemirror_mode": {
    "name": "ipython",
    "version": 3
   },
   "file_extension": ".py",
   "mimetype": "text/x-python",
   "name": "python",
   "nbconvert_exporter": "python",
   "pygments_lexer": "ipython3",
   "version": "3.7.6"
  }
 },
 "nbformat": 4,
 "nbformat_minor": 4
}
